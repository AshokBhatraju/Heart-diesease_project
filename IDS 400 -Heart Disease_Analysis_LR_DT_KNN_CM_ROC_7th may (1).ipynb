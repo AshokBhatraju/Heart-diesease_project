{
 "cells": [
  {
   "cell_type": "code",
   "execution_count": 1,
   "metadata": {},
   "outputs": [],
   "source": [
    "#Importing required libraries\n",
    "import os\n",
    "import pandas as pd\n",
    "from sklearn import preprocessing\n",
    "from sklearn.preprocessing import MinMaxScaler\n",
    "import seaborn as sb\n",
    "import matplotlib.pyplot as plt\n",
    "from sklearn.impute import SimpleImputer\n",
    "import numpy as np\n",
    "from scipy.stats import kurtosis\n",
    "from sklearn.model_selection import train_test_split\n",
    "from sklearn import svm\n",
    "import pylab as pl"
   ]
  },
  {
   "cell_type": "code",
   "execution_count": 2,
   "metadata": {},
   "outputs": [
    {
     "data": {
      "text/html": [
       "<div>\n",
       "<style scoped>\n",
       "    .dataframe tbody tr th:only-of-type {\n",
       "        vertical-align: middle;\n",
       "    }\n",
       "\n",
       "    .dataframe tbody tr th {\n",
       "        vertical-align: top;\n",
       "    }\n",
       "\n",
       "    .dataframe thead th {\n",
       "        text-align: right;\n",
       "    }\n",
       "</style>\n",
       "<table border=\"1\" class=\"dataframe\">\n",
       "  <thead>\n",
       "    <tr style=\"text-align: right;\">\n",
       "      <th></th>\n",
       "      <th>age</th>\n",
       "      <th>sex</th>\n",
       "      <th>cp</th>\n",
       "      <th>trestbps</th>\n",
       "      <th>chol</th>\n",
       "      <th>fbs</th>\n",
       "      <th>restecg</th>\n",
       "      <th>thalach</th>\n",
       "      <th>exang</th>\n",
       "      <th>oldpeak</th>\n",
       "      <th>slope</th>\n",
       "      <th>ca</th>\n",
       "      <th>thal</th>\n",
       "      <th>num</th>\n",
       "    </tr>\n",
       "  </thead>\n",
       "  <tbody>\n",
       "    <tr>\n",
       "      <td>0</td>\n",
       "      <td>63</td>\n",
       "      <td>1</td>\n",
       "      <td>1</td>\n",
       "      <td>145</td>\n",
       "      <td>233</td>\n",
       "      <td>1</td>\n",
       "      <td>2</td>\n",
       "      <td>150</td>\n",
       "      <td>0</td>\n",
       "      <td>2.3</td>\n",
       "      <td>3</td>\n",
       "      <td>0</td>\n",
       "      <td>6</td>\n",
       "      <td>0</td>\n",
       "    </tr>\n",
       "    <tr>\n",
       "      <td>1</td>\n",
       "      <td>67</td>\n",
       "      <td>1</td>\n",
       "      <td>4</td>\n",
       "      <td>160</td>\n",
       "      <td>286</td>\n",
       "      <td>0</td>\n",
       "      <td>2</td>\n",
       "      <td>108</td>\n",
       "      <td>1</td>\n",
       "      <td>1.5</td>\n",
       "      <td>2</td>\n",
       "      <td>3</td>\n",
       "      <td>3</td>\n",
       "      <td>2</td>\n",
       "    </tr>\n",
       "    <tr>\n",
       "      <td>2</td>\n",
       "      <td>67</td>\n",
       "      <td>1</td>\n",
       "      <td>4</td>\n",
       "      <td>120</td>\n",
       "      <td>229</td>\n",
       "      <td>0</td>\n",
       "      <td>2</td>\n",
       "      <td>129</td>\n",
       "      <td>1</td>\n",
       "      <td>2.6</td>\n",
       "      <td>2</td>\n",
       "      <td>2</td>\n",
       "      <td>7</td>\n",
       "      <td>1</td>\n",
       "    </tr>\n",
       "    <tr>\n",
       "      <td>3</td>\n",
       "      <td>37</td>\n",
       "      <td>1</td>\n",
       "      <td>3</td>\n",
       "      <td>130</td>\n",
       "      <td>250</td>\n",
       "      <td>0</td>\n",
       "      <td>0</td>\n",
       "      <td>187</td>\n",
       "      <td>0</td>\n",
       "      <td>3.5</td>\n",
       "      <td>3</td>\n",
       "      <td>0</td>\n",
       "      <td>3</td>\n",
       "      <td>0</td>\n",
       "    </tr>\n",
       "    <tr>\n",
       "      <td>4</td>\n",
       "      <td>41</td>\n",
       "      <td>0</td>\n",
       "      <td>2</td>\n",
       "      <td>130</td>\n",
       "      <td>204</td>\n",
       "      <td>0</td>\n",
       "      <td>2</td>\n",
       "      <td>172</td>\n",
       "      <td>0</td>\n",
       "      <td>1.4</td>\n",
       "      <td>1</td>\n",
       "      <td>0</td>\n",
       "      <td>3</td>\n",
       "      <td>0</td>\n",
       "    </tr>\n",
       "  </tbody>\n",
       "</table>\n",
       "</div>"
      ],
      "text/plain": [
       "   age  sex  cp  trestbps  chol  fbs  restecg  thalach  exang  oldpeak  slope  \\\n",
       "0   63    1   1       145   233    1        2      150      0      2.3      3   \n",
       "1   67    1   4       160   286    0        2      108      1      1.5      2   \n",
       "2   67    1   4       120   229    0        2      129      1      2.6      2   \n",
       "3   37    1   3       130   250    0        0      187      0      3.5      3   \n",
       "4   41    0   2       130   204    0        2      172      0      1.4      1   \n",
       "\n",
       "  ca thal  num  \n",
       "0  0    6    0  \n",
       "1  3    3    2  \n",
       "2  2    7    1  \n",
       "3  0    3    0  \n",
       "4  0    3    0  "
      ]
     },
     "execution_count": 2,
     "metadata": {},
     "output_type": "execute_result"
    }
   ],
   "source": [
    "#Setting directory and uploading file\n",
    "#Everyone, please set your own path here\n",
    "os.getcwd()\n",
    "path = os.chdir('C://Users//ashok//Desktop//UIC//spring 2020//python 400//project')\n",
    "hdc = pd.read_csv(\"processed_cleveland_data.csv\")\n",
    "hdc.head(5)"
   ]
  },
  {
   "cell_type": "markdown",
   "metadata": {},
   "source": [
    "The dataset contains attributes describing range of conditions that affect the heart, this data is collected for people from Cleveland . The detailed description are available in the report. The response variable/dependent variable is 'num' which has values 0-4, 0 indicates absence and any value from 1-4 means presence of heart disease."
   ]
  },
  {
   "cell_type": "code",
   "execution_count": 3,
   "metadata": {},
   "outputs": [
    {
     "name": "stdout",
     "output_type": "stream",
     "text": [
      "age int64\n",
      "sex int64\n",
      "cp int64\n",
      "trestbps int64\n",
      "chol int64\n",
      "fbs int64\n",
      "restecg int64\n",
      "thalach int64\n",
      "exang int64\n",
      "oldpeak float64\n",
      "slope int64\n",
      "ca object\n",
      "thal object\n",
      "num int64\n"
     ]
    }
   ],
   "source": [
    "#Getting the data types of all variables in the dataframe \n",
    "for name, dtype in hdc.dtypes.iteritems():\n",
    "    print(name, dtype)"
   ]
  },
  {
   "cell_type": "code",
   "execution_count": 4,
   "metadata": {},
   "outputs": [
    {
     "data": {
      "text/plain": [
       "age         0\n",
       "sex         0\n",
       "cp          0\n",
       "trestbps    0\n",
       "chol        0\n",
       "fbs         0\n",
       "restecg     0\n",
       "thalach     0\n",
       "exang       0\n",
       "oldpeak     0\n",
       "slope       0\n",
       "ca          0\n",
       "thal        0\n",
       "num         0\n",
       "dtype: int64"
      ]
     },
     "execution_count": 4,
     "metadata": {},
     "output_type": "execute_result"
    }
   ],
   "source": [
    "#Count of NA/Missing in each column\n",
    "hdc.isnull().sum()"
   ]
  },
  {
   "cell_type": "markdown",
   "metadata": {},
   "source": [
    "All the data types are primarily in the integer format, except 'ca' and 'thal' which are in object. Even though the count of all columns shows zero, ca and than contain few \"?\" which are equivalent to null/NA. These values need to be imputed by median. Some of columns eg Sex, Fbs and Exang have binary values '0' and '1' "
   ]
  },
  {
   "cell_type": "code",
   "execution_count": 5,
   "metadata": {},
   "outputs": [
    {
     "name": "stdout",
     "output_type": "stream",
     "text": [
      "     age  sex  cp  trestbps  chol  fbs  restecg  thalach  exang  oldpeak  \\\n",
      "0     63    1   1       145   233    1        2      150      0      2.3   \n",
      "1     67    1   4       160   286    0        2      108      1      1.5   \n",
      "2     67    1   4       120   229    0        2      129      1      2.6   \n",
      "3     37    1   3       130   250    0        0      187      0      3.5   \n",
      "4     41    0   2       130   204    0        2      172      0      1.4   \n",
      "..   ...  ...  ..       ...   ...  ...      ...      ...    ...      ...   \n",
      "298   45    1   1       110   264    0        0      132      0      1.2   \n",
      "299   68    1   4       144   193    1        0      141      0      3.4   \n",
      "300   57    1   4       130   131    0        0      115      1      1.2   \n",
      "301   57    0   2       130   236    0        2      174      0      0.0   \n",
      "302   38    1   3       138   175    0        0      173      0      0.0   \n",
      "\n",
      "     slope   ca thal  num  \n",
      "0        3    0    6    0  \n",
      "1        2    3    3    2  \n",
      "2        2    2    7    1  \n",
      "3        3    0    3    0  \n",
      "4        1    0    3    0  \n",
      "..     ...  ...  ...  ...  \n",
      "298      2    0    7    1  \n",
      "299      2    2    7    2  \n",
      "300      2    1    7    3  \n",
      "301      2    1    3    1  \n",
      "302      1  NaN    3    0  \n",
      "\n",
      "[303 rows x 14 columns]\n"
     ]
    }
   ],
   "source": [
    "#Replacing '?' with NaN\n",
    "hdc = hdc.replace('?', np.nan)\n",
    "print(hdc)"
   ]
  },
  {
   "cell_type": "code",
   "execution_count": 6,
   "metadata": {},
   "outputs": [],
   "source": [
    "#Finding and Imputing median values for 'ca' and 'thal' columns\n",
    "hdc.median()\n",
    "\n",
    "hdc['ca'] = hdc['ca'].fillna(hdc['ca'].median())\n",
    "hdc['thal'] = hdc['thal'].fillna(hdc['thal'].median())"
   ]
  },
  {
   "cell_type": "code",
   "execution_count": 7,
   "metadata": {},
   "outputs": [
    {
     "data": {
      "text/html": [
       "<div>\n",
       "<style scoped>\n",
       "    .dataframe tbody tr th:only-of-type {\n",
       "        vertical-align: middle;\n",
       "    }\n",
       "\n",
       "    .dataframe tbody tr th {\n",
       "        vertical-align: top;\n",
       "    }\n",
       "\n",
       "    .dataframe thead th {\n",
       "        text-align: right;\n",
       "    }\n",
       "</style>\n",
       "<table border=\"1\" class=\"dataframe\">\n",
       "  <thead>\n",
       "    <tr style=\"text-align: right;\">\n",
       "      <th></th>\n",
       "      <th>age</th>\n",
       "      <th>sex</th>\n",
       "      <th>cp</th>\n",
       "      <th>trestbps</th>\n",
       "      <th>chol</th>\n",
       "      <th>fbs</th>\n",
       "      <th>restecg</th>\n",
       "      <th>thalach</th>\n",
       "      <th>exang</th>\n",
       "      <th>oldpeak</th>\n",
       "      <th>slope</th>\n",
       "      <th>num</th>\n",
       "    </tr>\n",
       "  </thead>\n",
       "  <tbody>\n",
       "    <tr>\n",
       "      <td>count</td>\n",
       "      <td>303.00</td>\n",
       "      <td>303.00</td>\n",
       "      <td>303.00</td>\n",
       "      <td>303.00</td>\n",
       "      <td>303.00</td>\n",
       "      <td>303.00</td>\n",
       "      <td>303.00</td>\n",
       "      <td>303.00</td>\n",
       "      <td>303.00</td>\n",
       "      <td>303.00</td>\n",
       "      <td>303.00</td>\n",
       "      <td>303.00</td>\n",
       "    </tr>\n",
       "    <tr>\n",
       "      <td>mean</td>\n",
       "      <td>54.44</td>\n",
       "      <td>0.68</td>\n",
       "      <td>3.16</td>\n",
       "      <td>131.69</td>\n",
       "      <td>246.69</td>\n",
       "      <td>0.15</td>\n",
       "      <td>0.99</td>\n",
       "      <td>149.61</td>\n",
       "      <td>0.33</td>\n",
       "      <td>1.04</td>\n",
       "      <td>1.60</td>\n",
       "      <td>0.94</td>\n",
       "    </tr>\n",
       "    <tr>\n",
       "      <td>std</td>\n",
       "      <td>9.04</td>\n",
       "      <td>0.47</td>\n",
       "      <td>0.96</td>\n",
       "      <td>17.60</td>\n",
       "      <td>51.78</td>\n",
       "      <td>0.36</td>\n",
       "      <td>0.99</td>\n",
       "      <td>22.88</td>\n",
       "      <td>0.47</td>\n",
       "      <td>1.16</td>\n",
       "      <td>0.62</td>\n",
       "      <td>1.23</td>\n",
       "    </tr>\n",
       "    <tr>\n",
       "      <td>min</td>\n",
       "      <td>29.00</td>\n",
       "      <td>0.00</td>\n",
       "      <td>1.00</td>\n",
       "      <td>94.00</td>\n",
       "      <td>126.00</td>\n",
       "      <td>0.00</td>\n",
       "      <td>0.00</td>\n",
       "      <td>71.00</td>\n",
       "      <td>0.00</td>\n",
       "      <td>0.00</td>\n",
       "      <td>1.00</td>\n",
       "      <td>0.00</td>\n",
       "    </tr>\n",
       "    <tr>\n",
       "      <td>25%</td>\n",
       "      <td>48.00</td>\n",
       "      <td>0.00</td>\n",
       "      <td>3.00</td>\n",
       "      <td>120.00</td>\n",
       "      <td>211.00</td>\n",
       "      <td>0.00</td>\n",
       "      <td>0.00</td>\n",
       "      <td>133.50</td>\n",
       "      <td>0.00</td>\n",
       "      <td>0.00</td>\n",
       "      <td>1.00</td>\n",
       "      <td>0.00</td>\n",
       "    </tr>\n",
       "    <tr>\n",
       "      <td>50%</td>\n",
       "      <td>56.00</td>\n",
       "      <td>1.00</td>\n",
       "      <td>3.00</td>\n",
       "      <td>130.00</td>\n",
       "      <td>241.00</td>\n",
       "      <td>0.00</td>\n",
       "      <td>1.00</td>\n",
       "      <td>153.00</td>\n",
       "      <td>0.00</td>\n",
       "      <td>0.80</td>\n",
       "      <td>2.00</td>\n",
       "      <td>0.00</td>\n",
       "    </tr>\n",
       "    <tr>\n",
       "      <td>75%</td>\n",
       "      <td>61.00</td>\n",
       "      <td>1.00</td>\n",
       "      <td>4.00</td>\n",
       "      <td>140.00</td>\n",
       "      <td>275.00</td>\n",
       "      <td>0.00</td>\n",
       "      <td>2.00</td>\n",
       "      <td>166.00</td>\n",
       "      <td>1.00</td>\n",
       "      <td>1.60</td>\n",
       "      <td>2.00</td>\n",
       "      <td>2.00</td>\n",
       "    </tr>\n",
       "    <tr>\n",
       "      <td>max</td>\n",
       "      <td>77.00</td>\n",
       "      <td>1.00</td>\n",
       "      <td>4.00</td>\n",
       "      <td>200.00</td>\n",
       "      <td>564.00</td>\n",
       "      <td>1.00</td>\n",
       "      <td>2.00</td>\n",
       "      <td>202.00</td>\n",
       "      <td>1.00</td>\n",
       "      <td>6.20</td>\n",
       "      <td>3.00</td>\n",
       "      <td>4.00</td>\n",
       "    </tr>\n",
       "  </tbody>\n",
       "</table>\n",
       "</div>"
      ],
      "text/plain": [
       "          age     sex      cp  trestbps    chol     fbs  restecg  thalach  \\\n",
       "count  303.00  303.00  303.00    303.00  303.00  303.00   303.00   303.00   \n",
       "mean    54.44    0.68    3.16    131.69  246.69    0.15     0.99   149.61   \n",
       "std      9.04    0.47    0.96     17.60   51.78    0.36     0.99    22.88   \n",
       "min     29.00    0.00    1.00     94.00  126.00    0.00     0.00    71.00   \n",
       "25%     48.00    0.00    3.00    120.00  211.00    0.00     0.00   133.50   \n",
       "50%     56.00    1.00    3.00    130.00  241.00    0.00     1.00   153.00   \n",
       "75%     61.00    1.00    4.00    140.00  275.00    0.00     2.00   166.00   \n",
       "max     77.00    1.00    4.00    200.00  564.00    1.00     2.00   202.00   \n",
       "\n",
       "        exang  oldpeak   slope     num  \n",
       "count  303.00   303.00  303.00  303.00  \n",
       "mean     0.33     1.04    1.60    0.94  \n",
       "std      0.47     1.16    0.62    1.23  \n",
       "min      0.00     0.00    1.00    0.00  \n",
       "25%      0.00     0.00    1.00    0.00  \n",
       "50%      0.00     0.80    2.00    0.00  \n",
       "75%      1.00     1.60    2.00    2.00  \n",
       "max      1.00     6.20    3.00    4.00  "
      ]
     },
     "execution_count": 7,
     "metadata": {},
     "output_type": "execute_result"
    }
   ],
   "source": [
    "#Summary statistics for the dataset \n",
    "hdc.describe().round(2)"
   ]
  },
  {
   "cell_type": "markdown",
   "metadata": {},
   "source": [
    "The age range is from 29-77 for both males and females. The resting blood pressure seems to be fluctuating between a regular range of 94-200mmHg which is normal as it increases with age. Resting heart rate has very high max value. Resting of the values are in binary format or have codes, which will be explored further."
   ]
  },
  {
   "cell_type": "code",
   "execution_count": 8,
   "metadata": {},
   "outputs": [],
   "source": [
    "#For converting the response variable into binary, we are re-mapping 1,2,3 and 4 to '1' indicating \n",
    "#presence of heart disease. For ease of understanding graphs, we are re-mapping sex values to males and females\n",
    "hdc['num'] = hdc.num.map({0: 0, 1: 1, 2: 1, 3: 1, 4: 1})\n",
    "hdc['sex'] = hdc.sex.map({0: 'female', 1: 'male'})\n",
    "\n",
    "#Converting the numerical response variable into categorical variable\n",
    "hdc['num'] = hdc.num.map({0: 'Safe', 1:'At Risk'})"
   ]
  },
  {
   "cell_type": "code",
   "execution_count": 9,
   "metadata": {},
   "outputs": [
    {
     "data": {
      "image/png": "[encoded data removed]",
      "text/plain": [
       "<Figure size 576x432 with 1 Axes>"
      ]
     },
     "metadata": {
      "needs_background": "light"
     },
     "output_type": "display_data"
    }
   ],
   "source": [
    "#Cleveland heartdisease - Overall Summary \n",
    "plt.figure(figsize=(8,6))\n",
    "dist=sb.countplot(y='num',data=hdc,palette='Set3')\n",
    "plt.title('Cleveland summary - Risk vs Safe')\n",
    "plt.xlabel('Total count of Heart Diseases')\n",
    "\n",
    "count = len(hdc['num'])\n",
    "for p in dist.patches:\n",
    "        percentage = '{:.1f}%'.format(100 * p.get_width()/count)\n",
    "        x = p.get_x() + p.get_width() + 0.02\n",
    "        y = p.get_y() + p.get_height()/2\n",
    "        dist.annotate(percentage, (x, y))"
   ]
  },
  {
   "cell_type": "code",
   "execution_count": 10,
   "metadata": {
    "scrolled": true
   },
   "outputs": [
    {
     "data": {
      "image/png": "[encoded data removed]",
      "text/plain": [
       "<Figure size 576x432 with 1 Axes>"
      ]
     },
     "metadata": {
      "needs_background": "light"
     },
     "output_type": "display_data"
    }
   ],
   "source": [
    "#Checking heart disease data as per sex \n",
    "plt.figure(figsize=(8,6))\n",
    "dist=sb.countplot(y='sex',data=hdc,palette='Set3')\n",
    "plt.title('Distribution Heart diseases by Sex ')\n",
    "plt.xlabel('Total count of Heart Diseases')\n",
    "\n",
    "count = len(hdc['num'])\n",
    "for p in dist.patches:\n",
    "        percentage = '{:.1f}%'.format(100 * p.get_width()/count)\n",
    "        x = p.get_x() + p.get_width() + 0.02\n",
    "        y = p.get_y() + p.get_height()/2\n",
    "        dist.annotate(percentage, (x, y))"
   ]
  },
  {
   "cell_type": "markdown",
   "metadata": {},
   "source": [
    "We observe that males are almost 2 twice as prone to risk and overall heart diseases as compared to  females."
   ]
  },
  {
   "cell_type": "code",
   "execution_count": 11,
   "metadata": {},
   "outputs": [
    {
     "data": {
      "text/plain": [
       "<seaborn.axisgrid.FacetGrid at 0x1e594bddb08>"
      ]
     },
     "execution_count": 11,
     "metadata": {},
     "output_type": "execute_result"
    },
    {
     "data": {
      "text/plain": [
       "<Figure size 1440x360 with 0 Axes>"
      ]
     },
     "metadata": {},
     "output_type": "display_data"
    },
    {
     "data": {
      "image/png": "[encoded data removed]",
      "text/plain": [
       "<Figure size 1150.5x360 with 1 Axes>"
      ]
     },
     "metadata": {
      "needs_background": "light"
     },
     "output_type": "display_data"
    }
   ],
   "source": [
    "#Understanding age-wise split for contracting heart disease or not\n",
    "plt.figure(figsize=(20,5))\n",
    "grid = sb.catplot(x=\"age\", hue=\"sex\", data=hdc, kind=\"count\", palette=\"Set3\",height=5,aspect=3)\n",
    "grid.set_ylabels(\"Heart Disease count\")"
   ]
  },
  {
   "cell_type": "markdown",
   "metadata": {},
   "source": [
    "Here we get the distribution of heart diseases by males and females as per their age. We see that the ages 57-59 yrs are most prone to heart diseases for male category and female risk peaks at 58 and 62yrs. "
   ]
  },
  {
   "cell_type": "code",
   "execution_count": 12,
   "metadata": {},
   "outputs": [],
   "source": [
    "#In order to perform more analysis creating copy\n",
    "newhdc=hdc.copy()"
   ]
  },
  {
   "cell_type": "code",
   "execution_count": 13,
   "metadata": {},
   "outputs": [],
   "source": [
    "newhdc['Thalassemia'] = newhdc.restecg.map({0: 'Normal', 1: 'Fixed defect', 2: 'Reversible defect'})\n",
    "newhdc['resting ecg'] = newhdc.restecg.map({0: 'normal', 1: 'st-t wave', 2: 'left ventricular hypertrophy'})\n",
    "newhdc['chestpain'] = newhdc.cp.map({1: 'typical angina', 2: 'atypical angina',3: 'non-anginal pain',4: 'asymptotic'})\n",
    "newhdc['age_bins'] = pd.cut(x=newhdc['age'], bins=[20,29,39,49,59,69,79])\n",
    "newhdc['age_by_decade'] = pd.cut(x=newhdc['age'], bins=[20,29,39,49,59,69,79], labels=['20s','30s','40s','50s','60s','70s'])"
   ]
  },
  {
   "cell_type": "code",
   "execution_count": 14,
   "metadata": {},
   "outputs": [
    {
     "data": {
      "text/html": [
       "<div>\n",
       "<style scoped>\n",
       "    .dataframe tbody tr th:only-of-type {\n",
       "        vertical-align: middle;\n",
       "    }\n",
       "\n",
       "    .dataframe tbody tr th {\n",
       "        vertical-align: top;\n",
       "    }\n",
       "\n",
       "    .dataframe thead th {\n",
       "        text-align: right;\n",
       "    }\n",
       "</style>\n",
       "<table border=\"1\" class=\"dataframe\">\n",
       "  <thead>\n",
       "    <tr style=\"text-align: right;\">\n",
       "      <th></th>\n",
       "      <th>age</th>\n",
       "      <th>sex</th>\n",
       "      <th>cp</th>\n",
       "      <th>trestbps</th>\n",
       "      <th>chol</th>\n",
       "      <th>fbs</th>\n",
       "      <th>restecg</th>\n",
       "      <th>thalach</th>\n",
       "      <th>exang</th>\n",
       "      <th>oldpeak</th>\n",
       "      <th>slope</th>\n",
       "      <th>ca</th>\n",
       "      <th>thal</th>\n",
       "      <th>num</th>\n",
       "      <th>Thalassemia</th>\n",
       "      <th>resting ecg</th>\n",
       "      <th>chestpain</th>\n",
       "      <th>age_bins</th>\n",
       "      <th>age_by_decade</th>\n",
       "    </tr>\n",
       "  </thead>\n",
       "  <tbody>\n",
       "    <tr>\n",
       "      <td>0</td>\n",
       "      <td>63</td>\n",
       "      <td>male</td>\n",
       "      <td>1</td>\n",
       "      <td>145</td>\n",
       "      <td>233</td>\n",
       "      <td>1</td>\n",
       "      <td>2</td>\n",
       "      <td>150</td>\n",
       "      <td>0</td>\n",
       "      <td>2.3</td>\n",
       "      <td>3</td>\n",
       "      <td>0</td>\n",
       "      <td>6</td>\n",
       "      <td>Safe</td>\n",
       "      <td>Reversible defect</td>\n",
       "      <td>left ventricular hypertrophy</td>\n",
       "      <td>typical angina</td>\n",
       "      <td>(59, 69]</td>\n",
       "      <td>60s</td>\n",
       "    </tr>\n",
       "    <tr>\n",
       "      <td>1</td>\n",
       "      <td>67</td>\n",
       "      <td>male</td>\n",
       "      <td>4</td>\n",
       "      <td>160</td>\n",
       "      <td>286</td>\n",
       "      <td>0</td>\n",
       "      <td>2</td>\n",
       "      <td>108</td>\n",
       "      <td>1</td>\n",
       "      <td>1.5</td>\n",
       "      <td>2</td>\n",
       "      <td>3</td>\n",
       "      <td>3</td>\n",
       "      <td>At Risk</td>\n",
       "      <td>Reversible defect</td>\n",
       "      <td>left ventricular hypertrophy</td>\n",
       "      <td>asymptotic</td>\n",
       "      <td>(59, 69]</td>\n",
       "      <td>60s</td>\n",
       "    </tr>\n",
       "    <tr>\n",
       "      <td>2</td>\n",
       "      <td>67</td>\n",
       "      <td>male</td>\n",
       "      <td>4</td>\n",
       "      <td>120</td>\n",
       "      <td>229</td>\n",
       "      <td>0</td>\n",
       "      <td>2</td>\n",
       "      <td>129</td>\n",
       "      <td>1</td>\n",
       "      <td>2.6</td>\n",
       "      <td>2</td>\n",
       "      <td>2</td>\n",
       "      <td>7</td>\n",
       "      <td>At Risk</td>\n",
       "      <td>Reversible defect</td>\n",
       "      <td>left ventricular hypertrophy</td>\n",
       "      <td>asymptotic</td>\n",
       "      <td>(59, 69]</td>\n",
       "      <td>60s</td>\n",
       "    </tr>\n",
       "    <tr>\n",
       "      <td>3</td>\n",
       "      <td>37</td>\n",
       "      <td>male</td>\n",
       "      <td>3</td>\n",
       "      <td>130</td>\n",
       "      <td>250</td>\n",
       "      <td>0</td>\n",
       "      <td>0</td>\n",
       "      <td>187</td>\n",
       "      <td>0</td>\n",
       "      <td>3.5</td>\n",
       "      <td>3</td>\n",
       "      <td>0</td>\n",
       "      <td>3</td>\n",
       "      <td>Safe</td>\n",
       "      <td>Normal</td>\n",
       "      <td>normal</td>\n",
       "      <td>non-anginal pain</td>\n",
       "      <td>(29, 39]</td>\n",
       "      <td>30s</td>\n",
       "    </tr>\n",
       "    <tr>\n",
       "      <td>4</td>\n",
       "      <td>41</td>\n",
       "      <td>female</td>\n",
       "      <td>2</td>\n",
       "      <td>130</td>\n",
       "      <td>204</td>\n",
       "      <td>0</td>\n",
       "      <td>2</td>\n",
       "      <td>172</td>\n",
       "      <td>0</td>\n",
       "      <td>1.4</td>\n",
       "      <td>1</td>\n",
       "      <td>0</td>\n",
       "      <td>3</td>\n",
       "      <td>Safe</td>\n",
       "      <td>Reversible defect</td>\n",
       "      <td>left ventricular hypertrophy</td>\n",
       "      <td>atypical angina</td>\n",
       "      <td>(39, 49]</td>\n",
       "      <td>40s</td>\n",
       "    </tr>\n",
       "  </tbody>\n",
       "</table>\n",
       "</div>"
      ],
      "text/plain": [
       "   age     sex  cp  trestbps  chol  fbs  restecg  thalach  exang  oldpeak  \\\n",
       "0   63    male   1       145   233    1        2      150      0      2.3   \n",
       "1   67    male   4       160   286    0        2      108      1      1.5   \n",
       "2   67    male   4       120   229    0        2      129      1      2.6   \n",
       "3   37    male   3       130   250    0        0      187      0      3.5   \n",
       "4   41  female   2       130   204    0        2      172      0      1.4   \n",
       "\n",
       "   slope ca thal      num        Thalassemia                   resting ecg  \\\n",
       "0      3  0    6     Safe  Reversible defect  left ventricular hypertrophy   \n",
       "1      2  3    3  At Risk  Reversible defect  left ventricular hypertrophy   \n",
       "2      2  2    7  At Risk  Reversible defect  left ventricular hypertrophy   \n",
       "3      3  0    3     Safe             Normal                        normal   \n",
       "4      1  0    3     Safe  Reversible defect  left ventricular hypertrophy   \n",
       "\n",
       "          chestpain  age_bins age_by_decade  \n",
       "0    typical angina  (59, 69]           60s  \n",
       "1        asymptotic  (59, 69]           60s  \n",
       "2        asymptotic  (59, 69]           60s  \n",
       "3  non-anginal pain  (29, 39]           30s  \n",
       "4   atypical angina  (39, 49]           40s  "
      ]
     },
     "execution_count": 14,
     "metadata": {},
     "output_type": "execute_result"
    }
   ],
   "source": [
    "newhdc.head(5)"
   ]
  },
  {
   "cell_type": "code",
   "execution_count": 15,
   "metadata": {},
   "outputs": [
    {
     "data": {
      "image/png": "[encoded data removed]",
      "text/plain": [
       "<Figure size 480.25x360 with 1 Axes>"
      ]
     },
     "metadata": {
      "needs_background": "light"
     },
     "output_type": "display_data"
    },
    {
     "data": {
      "image/png": "[encoded data removed]",
      "text/plain": [
       "<Figure size 534.25x360 with 1 Axes>"
      ]
     },
     "metadata": {
      "needs_background": "light"
     },
     "output_type": "display_data"
    },
    {
     "data": {
      "image/png": "[encoded data removed]",
      "text/plain": [
       "<Figure size 411.75x360 with 1 Axes>"
      ]
     },
     "metadata": {
      "needs_background": "light"
     },
     "output_type": "display_data"
    }
   ],
   "source": [
    "#Understanding how chestpain type impacts presence or absence of heart disease\n",
    "sb.catplot(kind = 'count', data = newhdc, x = 'num', hue = 'chestpain',palette='Set3')\n",
    "plt.title('Distribution of Chestpain types wrt the target class')\n",
    "plt.show()\n",
    "\n",
    "#Understanding how ECG type impacts presence or absence of heart disease\n",
    "sb.catplot(kind = 'count', data = newhdc, x = 'num', hue = 'resting ecg',palette='Set3')\n",
    "plt.title('Distribution of ECG types wrt the target class')\n",
    "plt.show()\n",
    "\n",
    "#Understanding how ECG type impacts presence or absence of heart disease\n",
    "sb.catplot(kind = 'count', data = newhdc, x = 'num', hue = 'thal',palette='Set3')\n",
    "plt.title('Distribution of Thalassemia types wrt the target class')\n",
    "plt.show()"
   ]
  },
  {
   "cell_type": "markdown",
   "metadata": {},
   "source": [
    "We see that patients with asymptomatic chest pain type have most propencity to get heart diseases. This is usually risky because one can never understand till the very end and condition of the patient can deteriote quickly. Likewise, patients with left ventricular hypertrophy (thickening of heart's wall) results in high risk for heart diseases."
   ]
  },
  {
   "cell_type": "code",
   "execution_count": 16,
   "metadata": {},
   "outputs": [
    {
     "data": {
      "image/png": "[encoded data removed]",
      "text/plain": [
       "<Figure size 430.625x360 with 1 Axes>"
      ]
     },
     "metadata": {
      "needs_background": "light"
     },
     "output_type": "display_data"
    }
   ],
   "source": [
    "#Understanding how males and females by age are at risk for heart diseases\n",
    "sb.catplot(kind = 'bar', data = newhdc, y = 'age', x = 'sex', hue = 'num', palette='Set3')\n",
    "plt.title('Distribution of Age vs Sex with the target class')\n",
    "plt.show()"
   ]
  },
  {
   "cell_type": "code",
   "execution_count": 17,
   "metadata": {},
   "outputs": [
    {
     "data": {
      "text/html": [
       "<div>\n",
       "<style scoped>\n",
       "    .dataframe tbody tr th:only-of-type {\n",
       "        vertical-align: middle;\n",
       "    }\n",
       "\n",
       "    .dataframe tbody tr th {\n",
       "        vertical-align: top;\n",
       "    }\n",
       "\n",
       "    .dataframe thead th {\n",
       "        text-align: right;\n",
       "    }\n",
       "</style>\n",
       "<table border=\"1\" class=\"dataframe\">\n",
       "  <thead>\n",
       "    <tr style=\"text-align: right;\">\n",
       "      <th></th>\n",
       "      <th>age</th>\n",
       "      <th>sex</th>\n",
       "      <th>cp</th>\n",
       "      <th>trestbps</th>\n",
       "      <th>chol</th>\n",
       "      <th>fbs</th>\n",
       "      <th>restecg</th>\n",
       "      <th>thalach</th>\n",
       "      <th>exang</th>\n",
       "      <th>oldpeak</th>\n",
       "      <th>slope</th>\n",
       "      <th>ca</th>\n",
       "      <th>thal</th>\n",
       "      <th>num</th>\n",
       "    </tr>\n",
       "  </thead>\n",
       "  <tbody>\n",
       "    <tr>\n",
       "      <td>0</td>\n",
       "      <td>63</td>\n",
       "      <td>male</td>\n",
       "      <td>1</td>\n",
       "      <td>145</td>\n",
       "      <td>233</td>\n",
       "      <td>1</td>\n",
       "      <td>2</td>\n",
       "      <td>150</td>\n",
       "      <td>0</td>\n",
       "      <td>2.3</td>\n",
       "      <td>3</td>\n",
       "      <td>0</td>\n",
       "      <td>6</td>\n",
       "      <td>Safe</td>\n",
       "    </tr>\n",
       "    <tr>\n",
       "      <td>1</td>\n",
       "      <td>67</td>\n",
       "      <td>male</td>\n",
       "      <td>4</td>\n",
       "      <td>160</td>\n",
       "      <td>286</td>\n",
       "      <td>0</td>\n",
       "      <td>2</td>\n",
       "      <td>108</td>\n",
       "      <td>1</td>\n",
       "      <td>1.5</td>\n",
       "      <td>2</td>\n",
       "      <td>3</td>\n",
       "      <td>3</td>\n",
       "      <td>At Risk</td>\n",
       "    </tr>\n",
       "    <tr>\n",
       "      <td>2</td>\n",
       "      <td>67</td>\n",
       "      <td>male</td>\n",
       "      <td>4</td>\n",
       "      <td>120</td>\n",
       "      <td>229</td>\n",
       "      <td>0</td>\n",
       "      <td>2</td>\n",
       "      <td>129</td>\n",
       "      <td>1</td>\n",
       "      <td>2.6</td>\n",
       "      <td>2</td>\n",
       "      <td>2</td>\n",
       "      <td>7</td>\n",
       "      <td>At Risk</td>\n",
       "    </tr>\n",
       "    <tr>\n",
       "      <td>3</td>\n",
       "      <td>37</td>\n",
       "      <td>male</td>\n",
       "      <td>3</td>\n",
       "      <td>130</td>\n",
       "      <td>250</td>\n",
       "      <td>0</td>\n",
       "      <td>0</td>\n",
       "      <td>187</td>\n",
       "      <td>0</td>\n",
       "      <td>3.5</td>\n",
       "      <td>3</td>\n",
       "      <td>0</td>\n",
       "      <td>3</td>\n",
       "      <td>Safe</td>\n",
       "    </tr>\n",
       "    <tr>\n",
       "      <td>4</td>\n",
       "      <td>41</td>\n",
       "      <td>female</td>\n",
       "      <td>2</td>\n",
       "      <td>130</td>\n",
       "      <td>204</td>\n",
       "      <td>0</td>\n",
       "      <td>2</td>\n",
       "      <td>172</td>\n",
       "      <td>0</td>\n",
       "      <td>1.4</td>\n",
       "      <td>1</td>\n",
       "      <td>0</td>\n",
       "      <td>3</td>\n",
       "      <td>Safe</td>\n",
       "    </tr>\n",
       "  </tbody>\n",
       "</table>\n",
       "</div>"
      ],
      "text/plain": [
       "   age     sex  cp  trestbps  chol  fbs  restecg  thalach  exang  oldpeak  \\\n",
       "0   63    male   1       145   233    1        2      150      0      2.3   \n",
       "1   67    male   4       160   286    0        2      108      1      1.5   \n",
       "2   67    male   4       120   229    0        2      129      1      2.6   \n",
       "3   37    male   3       130   250    0        0      187      0      3.5   \n",
       "4   41  female   2       130   204    0        2      172      0      1.4   \n",
       "\n",
       "   slope ca thal      num  \n",
       "0      3  0    6     Safe  \n",
       "1      2  3    3  At Risk  \n",
       "2      2  2    7  At Risk  \n",
       "3      3  0    3     Safe  \n",
       "4      1  0    3     Safe  "
      ]
     },
     "execution_count": 17,
     "metadata": {},
     "output_type": "execute_result"
    }
   ],
   "source": [
    "hdc.head(5)"
   ]
  },
  {
   "cell_type": "code",
   "execution_count": 18,
   "metadata": {},
   "outputs": [
    {
     "data": {
      "text/plain": [
       "Text(0, 0.5, 'Frequency')"
      ]
     },
     "execution_count": 18,
     "metadata": {},
     "output_type": "execute_result"
    },
    {
     "data": {
      "text/plain": [
       "<Figure size 1224x720 with 0 Axes>"
      ]
     },
     "metadata": {},
     "output_type": "display_data"
    },
    {
     "data": {
      "image/png": "[encoded data removed]",
      "text/plain": [
       "<Figure size 432x288 with 1 Axes>"
      ]
     },
     "metadata": {
      "needs_background": "light"
     },
     "output_type": "display_data"
    },
    {
     "data": {
      "text/plain": [
       "<Figure size 1224x720 with 0 Axes>"
      ]
     },
     "metadata": {},
     "output_type": "display_data"
    },
    {
     "data": {
      "image/png": "[encoded data removed]",
      "text/plain": [
       "<Figure size 432x288 with 1 Axes>"
      ]
     },
     "metadata": {
      "needs_background": "light"
     },
     "output_type": "display_data"
    },
    {
     "data": {
      "text/plain": [
       "<Figure size 1224x720 with 0 Axes>"
      ]
     },
     "metadata": {},
     "output_type": "display_data"
    },
    {
     "data": {
      "image/png": "[encoded data removed]",
      "text/plain": [
       "<Figure size 432x288 with 1 Axes>"
      ]
     },
     "metadata": {
      "needs_background": "light"
     },
     "output_type": "display_data"
    }
   ],
   "source": [
    "#Plotting histograms to check for skewness of the numerical values.\n",
    "#We can also see that scales of the data is different, so we can normalize few columns\n",
    "#Blood Pressure\n",
    "fig=plt.figure(figsize=(17,10))\n",
    "hdc.hist(column=\"trestbps\")\n",
    "plt.xlabel(\"Resting Blood Pressure\",fontsize=15)\n",
    "plt.ylabel(\"Frequency\",fontsize=15)\n",
    "#Cholestrol\n",
    "fig=plt.figure(figsize=(17,10))\n",
    "hdc.hist(column=\"chol\")\n",
    "plt.xlabel(\"Cholestrol\",fontsize=15)\n",
    "plt.ylabel(\"Frequency\",fontsize=15)\n",
    "#Maximum heart rate\n",
    "fig=plt.figure(figsize=(17,10))\n",
    "hdc.hist(column=\"thalach\")\n",
    "plt.xlabel(\"Maximum heart rate achieved\",fontsize=15)\n",
    "plt.ylabel(\"Frequency\",fontsize=15)"
   ]
  },
  {
   "cell_type": "code",
   "execution_count": 19,
   "metadata": {
    "scrolled": false
   },
   "outputs": [
    {
     "data": {
      "text/plain": [
       "<Figure size 1224x720 with 0 Axes>"
      ]
     },
     "metadata": {},
     "output_type": "display_data"
    },
    {
     "data": {
      "image/png": "[encoded data removed]",
      "text/plain": [
       "<Figure size 432x288 with 1 Axes>"
      ]
     },
     "metadata": {
      "needs_background": "light"
     },
     "output_type": "display_data"
    },
    {
     "data": {
      "text/plain": [
       "<Figure size 1224x720 with 0 Axes>"
      ]
     },
     "metadata": {},
     "output_type": "display_data"
    },
    {
     "data": {
      "image/png": "[encoded data removed]",
      "text/plain": [
       "<Figure size 432x288 with 1 Axes>"
      ]
     },
     "metadata": {
      "needs_background": "light"
     },
     "output_type": "display_data"
    },
    {
     "data": {
      "text/plain": [
       "<Figure size 1224x720 with 0 Axes>"
      ]
     },
     "metadata": {},
     "output_type": "display_data"
    },
    {
     "data": {
      "image/png": "[encoded data removed]",
      "text/plain": [
       "<Figure size 432x288 with 1 Axes>"
      ]
     },
     "metadata": {
      "needs_background": "light"
     },
     "output_type": "display_data"
    },
    {
     "data": {
      "text/plain": [
       "<Figure size 1224x720 with 0 Axes>"
      ]
     },
     "metadata": {},
     "output_type": "display_data"
    },
    {
     "data": {
      "image/png": "[encoded data removed]",
      "text/plain": [
       "<Figure size 432x288 with 1 Axes>"
      ]
     },
     "metadata": {
      "needs_background": "light"
     },
     "output_type": "display_data"
    },
    {
     "data": {
      "text/plain": [
       "<Figure size 1224x720 with 0 Axes>"
      ]
     },
     "metadata": {},
     "output_type": "display_data"
    },
    {
     "data": {
      "image/png": "[encoded data removed]",
      "text/plain": [
       "<Figure size 432x288 with 1 Axes>"
      ]
     },
     "metadata": {
      "needs_background": "light"
     },
     "output_type": "display_data"
    },
    {
     "data": {
      "text/plain": [
       "<Figure size 1224x720 with 0 Axes>"
      ]
     },
     "metadata": {},
     "output_type": "display_data"
    },
    {
     "data": {
      "image/png": "[encoded data removed]",
      "text/plain": [
       "<Figure size 432x288 with 1 Axes>"
      ]
     },
     "metadata": {
      "needs_background": "light"
     },
     "output_type": "display_data"
    }
   ],
   "source": [
    "#Need to normalize few columns - Chol , Blood Pressure and Heart rate\n",
    "from sklearn import preprocessing\n",
    "list1=['trestbps', 'chol', 'thalach']\n",
    "list2=['trestbps_new', 'chol_new', 'thalach_new']\n",
    "for i in range(3):\n",
    "    hdc[list2[i]]=np.log(hdc[list1[i]])\n",
    "\n",
    "    \n",
    "list3=[\"Resting Blood Pressure\",\"Cholestrol\",\"Maximum heart rate achieved\"]\n",
    "for i in range(3):\n",
    "    fig=plt.figure(figsize=(17,10))\n",
    "    hdc.hist(column=list1[i])\n",
    "    plt.xlabel(list3[i],fontsize=15)\n",
    "    plt.ylabel(\"Frequency\",fontsize=15)\n",
    "    \n",
    "    fig=plt.figure(figsize=(17,10))\n",
    "    hdc.hist(column=list2[i])\n",
    "    plt.xlabel(list3[i],fontsize=15)\n",
    "    plt.ylabel(\"Frequency\",fontsize=15)"
   ]
  },
  {
   "cell_type": "code",
   "execution_count": 20,
   "metadata": {},
   "outputs": [
    {
     "data": {
      "text/html": [
       "<div>\n",
       "<style scoped>\n",
       "    .dataframe tbody tr th:only-of-type {\n",
       "        vertical-align: middle;\n",
       "    }\n",
       "\n",
       "    .dataframe tbody tr th {\n",
       "        vertical-align: top;\n",
       "    }\n",
       "\n",
       "    .dataframe thead th {\n",
       "        text-align: right;\n",
       "    }\n",
       "</style>\n",
       "<table border=\"1\" class=\"dataframe\">\n",
       "  <thead>\n",
       "    <tr style=\"text-align: right;\">\n",
       "      <th></th>\n",
       "      <th>age</th>\n",
       "      <th>sex</th>\n",
       "      <th>cp</th>\n",
       "      <th>fbs</th>\n",
       "      <th>restecg</th>\n",
       "      <th>exang</th>\n",
       "      <th>oldpeak</th>\n",
       "      <th>slope</th>\n",
       "      <th>ca</th>\n",
       "      <th>thal</th>\n",
       "      <th>num</th>\n",
       "      <th>trestbps_new</th>\n",
       "      <th>chol_new</th>\n",
       "      <th>thalach_new</th>\n",
       "    </tr>\n",
       "  </thead>\n",
       "  <tbody>\n",
       "    <tr>\n",
       "      <td>0</td>\n",
       "      <td>63</td>\n",
       "      <td>male</td>\n",
       "      <td>1</td>\n",
       "      <td>1</td>\n",
       "      <td>2</td>\n",
       "      <td>0</td>\n",
       "      <td>2.3</td>\n",
       "      <td>3</td>\n",
       "      <td>0</td>\n",
       "      <td>6</td>\n",
       "      <td>Safe</td>\n",
       "      <td>4.976734</td>\n",
       "      <td>5.451038</td>\n",
       "      <td>5.010635</td>\n",
       "    </tr>\n",
       "    <tr>\n",
       "      <td>1</td>\n",
       "      <td>67</td>\n",
       "      <td>male</td>\n",
       "      <td>4</td>\n",
       "      <td>0</td>\n",
       "      <td>2</td>\n",
       "      <td>1</td>\n",
       "      <td>1.5</td>\n",
       "      <td>2</td>\n",
       "      <td>3</td>\n",
       "      <td>3</td>\n",
       "      <td>At Risk</td>\n",
       "      <td>5.075174</td>\n",
       "      <td>5.655992</td>\n",
       "      <td>4.682131</td>\n",
       "    </tr>\n",
       "    <tr>\n",
       "      <td>2</td>\n",
       "      <td>67</td>\n",
       "      <td>male</td>\n",
       "      <td>4</td>\n",
       "      <td>0</td>\n",
       "      <td>2</td>\n",
       "      <td>1</td>\n",
       "      <td>2.6</td>\n",
       "      <td>2</td>\n",
       "      <td>2</td>\n",
       "      <td>7</td>\n",
       "      <td>At Risk</td>\n",
       "      <td>4.787492</td>\n",
       "      <td>5.433722</td>\n",
       "      <td>4.859812</td>\n",
       "    </tr>\n",
       "    <tr>\n",
       "      <td>3</td>\n",
       "      <td>37</td>\n",
       "      <td>male</td>\n",
       "      <td>3</td>\n",
       "      <td>0</td>\n",
       "      <td>0</td>\n",
       "      <td>0</td>\n",
       "      <td>3.5</td>\n",
       "      <td>3</td>\n",
       "      <td>0</td>\n",
       "      <td>3</td>\n",
       "      <td>Safe</td>\n",
       "      <td>4.867534</td>\n",
       "      <td>5.521461</td>\n",
       "      <td>5.231109</td>\n",
       "    </tr>\n",
       "    <tr>\n",
       "      <td>4</td>\n",
       "      <td>41</td>\n",
       "      <td>female</td>\n",
       "      <td>2</td>\n",
       "      <td>0</td>\n",
       "      <td>2</td>\n",
       "      <td>0</td>\n",
       "      <td>1.4</td>\n",
       "      <td>1</td>\n",
       "      <td>0</td>\n",
       "      <td>3</td>\n",
       "      <td>Safe</td>\n",
       "      <td>4.867534</td>\n",
       "      <td>5.318120</td>\n",
       "      <td>5.147494</td>\n",
       "    </tr>\n",
       "    <tr>\n",
       "      <td>...</td>\n",
       "      <td>...</td>\n",
       "      <td>...</td>\n",
       "      <td>...</td>\n",
       "      <td>...</td>\n",
       "      <td>...</td>\n",
       "      <td>...</td>\n",
       "      <td>...</td>\n",
       "      <td>...</td>\n",
       "      <td>...</td>\n",
       "      <td>...</td>\n",
       "      <td>...</td>\n",
       "      <td>...</td>\n",
       "      <td>...</td>\n",
       "      <td>...</td>\n",
       "    </tr>\n",
       "    <tr>\n",
       "      <td>298</td>\n",
       "      <td>45</td>\n",
       "      <td>male</td>\n",
       "      <td>1</td>\n",
       "      <td>0</td>\n",
       "      <td>0</td>\n",
       "      <td>0</td>\n",
       "      <td>1.2</td>\n",
       "      <td>2</td>\n",
       "      <td>0</td>\n",
       "      <td>7</td>\n",
       "      <td>At Risk</td>\n",
       "      <td>4.700480</td>\n",
       "      <td>5.575949</td>\n",
       "      <td>4.882802</td>\n",
       "    </tr>\n",
       "    <tr>\n",
       "      <td>299</td>\n",
       "      <td>68</td>\n",
       "      <td>male</td>\n",
       "      <td>4</td>\n",
       "      <td>1</td>\n",
       "      <td>0</td>\n",
       "      <td>0</td>\n",
       "      <td>3.4</td>\n",
       "      <td>2</td>\n",
       "      <td>2</td>\n",
       "      <td>7</td>\n",
       "      <td>At Risk</td>\n",
       "      <td>4.969813</td>\n",
       "      <td>5.262690</td>\n",
       "      <td>4.948760</td>\n",
       "    </tr>\n",
       "    <tr>\n",
       "      <td>300</td>\n",
       "      <td>57</td>\n",
       "      <td>male</td>\n",
       "      <td>4</td>\n",
       "      <td>0</td>\n",
       "      <td>0</td>\n",
       "      <td>1</td>\n",
       "      <td>1.2</td>\n",
       "      <td>2</td>\n",
       "      <td>1</td>\n",
       "      <td>7</td>\n",
       "      <td>At Risk</td>\n",
       "      <td>4.867534</td>\n",
       "      <td>4.875197</td>\n",
       "      <td>4.744932</td>\n",
       "    </tr>\n",
       "    <tr>\n",
       "      <td>301</td>\n",
       "      <td>57</td>\n",
       "      <td>female</td>\n",
       "      <td>2</td>\n",
       "      <td>0</td>\n",
       "      <td>2</td>\n",
       "      <td>0</td>\n",
       "      <td>0.0</td>\n",
       "      <td>2</td>\n",
       "      <td>1</td>\n",
       "      <td>3</td>\n",
       "      <td>At Risk</td>\n",
       "      <td>4.867534</td>\n",
       "      <td>5.463832</td>\n",
       "      <td>5.159055</td>\n",
       "    </tr>\n",
       "    <tr>\n",
       "      <td>302</td>\n",
       "      <td>38</td>\n",
       "      <td>male</td>\n",
       "      <td>3</td>\n",
       "      <td>0</td>\n",
       "      <td>0</td>\n",
       "      <td>0</td>\n",
       "      <td>0.0</td>\n",
       "      <td>1</td>\n",
       "      <td>0</td>\n",
       "      <td>3</td>\n",
       "      <td>Safe</td>\n",
       "      <td>4.927254</td>\n",
       "      <td>5.164786</td>\n",
       "      <td>5.153292</td>\n",
       "    </tr>\n",
       "  </tbody>\n",
       "</table>\n",
       "<p>303 rows × 14 columns</p>\n",
       "</div>"
      ],
      "text/plain": [
       "     age     sex  cp  fbs  restecg  exang  oldpeak  slope ca thal      num  \\\n",
       "0     63    male   1    1        2      0      2.3      3  0    6     Safe   \n",
       "1     67    male   4    0        2      1      1.5      2  3    3  At Risk   \n",
       "2     67    male   4    0        2      1      2.6      2  2    7  At Risk   \n",
       "3     37    male   3    0        0      0      3.5      3  0    3     Safe   \n",
       "4     41  female   2    0        2      0      1.4      1  0    3     Safe   \n",
       "..   ...     ...  ..  ...      ...    ...      ...    ... ..  ...      ...   \n",
       "298   45    male   1    0        0      0      1.2      2  0    7  At Risk   \n",
       "299   68    male   4    1        0      0      3.4      2  2    7  At Risk   \n",
       "300   57    male   4    0        0      1      1.2      2  1    7  At Risk   \n",
       "301   57  female   2    0        2      0      0.0      2  1    3  At Risk   \n",
       "302   38    male   3    0        0      0      0.0      1  0    3     Safe   \n",
       "\n",
       "     trestbps_new  chol_new  thalach_new  \n",
       "0        4.976734  5.451038     5.010635  \n",
       "1        5.075174  5.655992     4.682131  \n",
       "2        4.787492  5.433722     4.859812  \n",
       "3        4.867534  5.521461     5.231109  \n",
       "4        4.867534  5.318120     5.147494  \n",
       "..            ...       ...          ...  \n",
       "298      4.700480  5.575949     4.882802  \n",
       "299      4.969813  5.262690     4.948760  \n",
       "300      4.867534  4.875197     4.744932  \n",
       "301      4.867534  5.463832     5.159055  \n",
       "302      4.927254  5.164786     5.153292  \n",
       "\n",
       "[303 rows x 14 columns]"
      ]
     },
     "execution_count": 20,
     "metadata": {},
     "output_type": "execute_result"
    }
   ],
   "source": [
    "#Deleting older columns because new columns are created using log transformations\n",
    "hdc.drop(['trestbps', 'chol','thalach'], axis=1)"
   ]
  },
  {
   "cell_type": "code",
   "execution_count": 21,
   "metadata": {},
   "outputs": [],
   "source": [
    "from sklearn.linear_model import LogisticRegression\n",
    "from sklearn.model_selection import train_test_split\n",
    "from sklearn.datasets import make_classification\n",
    "from sklearn.metrics import confusion_matrix\n",
    "from sklearn.metrics import classification_report\n",
    "from sklearn.metrics import roc_curve, auc\n",
    "from sklearn.metrics import roc_auc_score"
   ]
  },
  {
   "cell_type": "code",
   "execution_count": 22,
   "metadata": {},
   "outputs": [],
   "source": [
    "from sklearn import preprocessing\n",
    "x=hdc.iloc[:, 0: 13].values\n",
    "y=hdc.iloc[:,13].values\n",
    "\n",
    "#testing\n",
    "x, y = make_classification(n_samples=1000, n_classes=2, random_state=1)\n",
    "x_trn, x_tst, y_trn, y_tst = train_test_split(x, y, test_size=0.2, random_state=1)\n",
    "from sklearn.preprocessing import StandardScaler\n",
    "scaler= StandardScaler()\n",
    "x_trn = scaler.fit_transform(x_trn)\n",
    "x_tst = scaler.transform(x_tst)"
   ]
  },
  {
   "cell_type": "code",
   "execution_count": 23,
   "metadata": {},
   "outputs": [
    {
     "name": "stdout",
     "output_type": "stream",
     "text": [
      "Accuracy of logistic regression classifier on Test set: 0.86\n"
     ]
    }
   ],
   "source": [
    "classifier = LogisticRegression(random_state = 1, solver = 'lbfgs')\n",
    "classifier.fit(x_trn, y_trn)\n",
    "y_pred = classifier.predict(x_tst)\n",
    "y_pred_trn = classifier.predict(x_trn)\n",
    "print('Accuracy of logistic regression classifier on Test set: {:.2f}'.format(classifier.score(x_tst, y_tst)))"
   ]
  },
  {
   "cell_type": "code",
   "execution_count": 24,
   "metadata": {},
   "outputs": [
    {
     "name": "stdout",
     "output_type": "stream",
     "text": [
      "Logistic Regression: \n",
      "Accuracy on Train set:  0.8475\n",
      "Confustion Matrix for Test set:\n",
      "  [[345  66]\n",
      " [ 56 333]]\n",
      "Accuracy on Test set:  0.86\n",
      "Confustion Matrix for Test set:\n",
      "  [[77 13]\n",
      " [15 95]]\n",
      "Report on Train set: \n",
      "              precision    recall  f1-score   support\n",
      "\n",
      "           0       0.86      0.84      0.85       411\n",
      "           1       0.83      0.86      0.85       389\n",
      "\n",
      "    accuracy                           0.85       800\n",
      "   macro avg       0.85      0.85      0.85       800\n",
      "weighted avg       0.85      0.85      0.85       800\n",
      "\n",
      "------------------------------------------------------\n",
      "Report on Test set: \n",
      "              precision    recall  f1-score   support\n",
      "\n",
      "           0       0.84      0.86      0.85        90\n",
      "           1       0.88      0.86      0.87       110\n",
      "\n",
      "    accuracy                           0.86       200\n",
      "   macro avg       0.86      0.86      0.86       200\n",
      "weighted avg       0.86      0.86      0.86       200\n",
      "\n"
     ]
    }
   ],
   "source": [
    "from sklearn.metrics import confusion_matrix, accuracy_score\n",
    "conma_trn = confusion_matrix(y_trn, y_pred_trn)\n",
    "conma = confusion_matrix(y_tst, y_pred)\n",
    "#Accuracy for Both Train and Test\n",
    "acc_trn = accuracy_score(y_trn, y_pred_trn)\n",
    "acc= accuracy_score(y_tst, y_pred)\n",
    "\n",
    "print('Logistic Regression: ')\n",
    "print('Accuracy on Train set: ', acc_trn)\n",
    "print('Confustion Matrix for Test set:\\n ', conma_trn)\n",
    "print('Accuracy on Test set: ', acc)\n",
    "print('Confustion Matrix for Test set:\\n ', conma)\n",
    "\n",
    "#Report for Both Train and Test\n",
    "\n",
    "print(\"Report on Train set: \")\n",
    "print(classification_report(y_trn, y_pred_trn))\n",
    "print(\"------------------------------------------------------\")\n",
    "print(\"Report on Test set: \")\n",
    "print(classification_report(y_tst, y_pred))"
   ]
  },
  {
   "cell_type": "code",
   "execution_count": 25,
   "metadata": {},
   "outputs": [
    {
     "data": {
      "image/png": "[encoded data removed]",
      "text/plain": [
       "<Figure size 432x288 with 1 Axes>"
      ]
     },
     "metadata": {
      "needs_background": "light"
     },
     "output_type": "display_data"
    },
    {
     "name": "stdout",
     "output_type": "stream",
     "text": [
      "AUC: 0.92\n"
     ]
    }
   ],
   "source": [
    "probs = classifier.predict_proba(x_tst)\n",
    "probs = probs[:, 1]\n",
    "from sklearn.metrics import roc_auc_score\n",
    "from sklearn.metrics import roc_curve\n",
    "logit_roc_auc = roc_auc_score(y_tst, probs)\n",
    "fpr, tpr, thresholds = roc_curve(y_tst, probs)\n",
    "plt.figure()\n",
    "plt.plot(fpr, tpr, label='Logistic Regression (area = %0.2f)' % logit_roc_auc)\n",
    "plt.plot([0, 1], [0, 1],'r--')\n",
    "plt.xlim([0.0, 1.0])\n",
    "plt.ylim([0.0, 1.05])\n",
    "plt.xlabel('False Positive Rate')\n",
    "plt.ylabel('True Positive Rate')\n",
    "plt.title('Receiver operating characteristic')\n",
    "plt.legend(loc=\"lower right\")\n",
    "plt.savefig('Log_ROC')\n",
    "plt.show()\n",
    "auc = roc_auc_score(y_tst, probs)\n",
    "print('AUC: %.2f' % auc)"
   ]
  },
  {
   "cell_type": "code",
   "execution_count": 26,
   "metadata": {},
   "outputs": [
    {
     "name": "stdout",
     "output_type": "stream",
     "text": [
      "{'criterion': 'gini', 'max_depth': 4, 'min_samples_split': 14}\n"
     ]
    }
   ],
   "source": [
    "#Decision Trees\n",
    "from sklearn.tree import DecisionTreeClassifier\n",
    "from sklearn.model_selection import GridSearchCV\n",
    "#Grid Search\n",
    "def dtree_grid_search(x,y,nfolds):\n",
    "    #create a dictionary of all values we want to test\n",
    "    param_grid = {'criterion':['gini','entropy'],'max_depth': np.arange(3, 15),'min_samples_split' : range(2,20,2)}\n",
    "    # decision tree model\n",
    "    dtree_model=DecisionTreeClassifier(random_state=45)\n",
    "    #use gridsearch to test all values\n",
    "    dtree_gscv = GridSearchCV(dtree_model, param_grid,cv=nfolds)\n",
    "    #fit model to data\n",
    "    dtree_gscv.fit(x, y)\n",
    "    return dtree_gscv.best_params_\n",
    "\n",
    "print(dtree_grid_search(x_trn,y_trn,5))"
   ]
  },
  {
   "cell_type": "code",
   "execution_count": 27,
   "metadata": {},
   "outputs": [
    {
     "ename": "AttributeError",
     "evalue": "'numpy.ndarray' object has no attribute 'columns'",
     "output_type": "error",
     "traceback": [
      "\u001b[1;31m---------------------------------------------------------------------------\u001b[0m",
      "\u001b[1;31mAttributeError\u001b[0m                            Traceback (most recent call last)",
      "\u001b[1;32m<ipython-input-27-35948e0067ad>\u001b[0m in \u001b[0;36m<module>\u001b[1;34m\u001b[0m\n\u001b[0;32m      4\u001b[0m \u001b[0mclf\u001b[0m\u001b[1;33m=\u001b[0m\u001b[0mclf\u001b[0m\u001b[1;33m.\u001b[0m\u001b[0mfit\u001b[0m\u001b[1;33m(\u001b[0m\u001b[0mx_trn\u001b[0m\u001b[1;33m,\u001b[0m\u001b[0my_trn\u001b[0m\u001b[1;33m)\u001b[0m\u001b[1;33m\u001b[0m\u001b[1;33m\u001b[0m\u001b[0m\n\u001b[0;32m      5\u001b[0m \u001b[1;31m#variable importance\u001b[0m\u001b[1;33m\u001b[0m\u001b[1;33m\u001b[0m\u001b[1;33m\u001b[0m\u001b[0m\n\u001b[1;32m----> 6\u001b[1;33m \u001b[0mvariable_import\u001b[0m\u001b[1;33m=\u001b[0m\u001b[0mdict\u001b[0m\u001b[1;33m(\u001b[0m\u001b[0mzip\u001b[0m\u001b[1;33m(\u001b[0m\u001b[0mx_trn\u001b[0m\u001b[1;33m.\u001b[0m\u001b[0mcolumns\u001b[0m\u001b[1;33m,\u001b[0m \u001b[0mclf\u001b[0m\u001b[1;33m.\u001b[0m\u001b[0mfeature_importances_\u001b[0m\u001b[1;33m)\u001b[0m\u001b[1;33m)\u001b[0m\u001b[1;33m\u001b[0m\u001b[1;33m\u001b[0m\u001b[0m\n\u001b[0m\u001b[0;32m      7\u001b[0m \u001b[0mprint\u001b[0m\u001b[1;33m(\u001b[0m\u001b[0mvariable_import\u001b[0m\u001b[1;33m)\u001b[0m\u001b[1;33m\u001b[0m\u001b[1;33m\u001b[0m\u001b[0m\n",
      "\u001b[1;31mAttributeError\u001b[0m: 'numpy.ndarray' object has no attribute 'columns'"
     ]
    }
   ],
   "source": [
    "#create decision tree object\n",
    "clf=DecisionTreeClassifier(criterion= 'gini', max_depth=4,min_samples_split=14,random_state=0)\n",
    "#Train decision tree classifer\n",
    "clf=clf.fit(x_trn,y_trn)\n",
    "#variable importance\n",
    "variable_import=dict(zip(x_trn.columns, clf.feature_importances_))\n",
    "print(variable_import)"
   ]
  },
  {
   "cell_type": "code",
   "execution_count": 28,
   "metadata": {},
   "outputs": [
    {
     "name": "stdout",
     "output_type": "stream",
     "text": [
      "Accuracy on train set: 0.89125\n",
      "Report on train set:\n",
      "               precision    recall  f1-score   support\n",
      "\n",
      "           0       0.92      0.86      0.89       411\n",
      "           1       0.86      0.92      0.89       389\n",
      "\n",
      "    accuracy                           0.89       800\n",
      "   macro avg       0.89      0.89      0.89       800\n",
      "weighted avg       0.89      0.89      0.89       800\n",
      "\n",
      "Report on test set:\n",
      "               precision    recall  f1-score   support\n",
      "\n",
      "           0       0.85      0.77      0.81        90\n",
      "           1       0.82      0.89      0.86       110\n",
      "\n",
      "    accuracy                           0.83       200\n",
      "   macro avg       0.84      0.83      0.83       200\n",
      "weighted avg       0.84      0.83      0.83       200\n",
      "\n"
     ]
    }
   ],
   "source": [
    "from sklearn import metrics\n",
    "#Predict the response for train dataset\n",
    "ypred_train = clf.predict(x_trn)\n",
    "#Predict the response for test dataset\n",
    "ypred_test = clf.predict(x_tst)\n",
    "\n",
    "# Model Accuracy, how often is the classifier correct?\n",
    "print(\"Accuracy on train set:\",metrics.accuracy_score(y_trn, ypred_train))\n",
    "#print(\"Accuracy on test set:\",metrics.accuracy_score(y_tst, ypred_test))\n",
    "\n",
    "#Confusion matrix on train set\n",
    "confusionMatrix_DT_train=confusion_matrix(y_trn,ypred_train)\n",
    "#print(\"Confusion Matrix Decision Tree for train set:\\n\",confusionMatrix_DT_train)\n",
    "\n",
    "#Confusion matrix on test set\n",
    "confusionMatrix_DT_test=confusion_matrix(y_tst,ypred_test)\n",
    "#print(\"Confusion Matrix Decision Tree for test set:\\n\",confusionMatrix_DT_test)\n",
    "\n",
    "#Classification report\n",
    "print(\"Report on train set:\\n\", classification_report(y_trn, ypred_train))\n",
    "print(\"Report on test set:\\n\", classification_report(y_tst, ypred_test))"
   ]
  },
  {
   "cell_type": "code",
   "execution_count": 29,
   "metadata": {},
   "outputs": [
    {
     "data": {
      "image/png": "[encoded data removed]",
      "text/plain": [
       "<Figure size 432x288 with 2 Axes>"
      ]
     },
     "metadata": {
      "needs_background": "light"
     },
     "output_type": "display_data"
    },
    {
     "name": "stdout",
     "output_type": "stream",
     "text": [
      "\u001b[1m\u001b[36mConfusion matrix of Decision Tree model : 83.5%\n"
     ]
    }
   ],
   "source": [
    "title=\"Confusion matrix of Decision Tree model\"\n",
    "cnf_matrix = metrics.confusion_matrix(y_tst, ypred_test)\n",
    "cnf_matrix\n",
    "class_names=[0,1]\n",
    "fig, ax = plt.subplots()\n",
    "tick_marks = np.arange(len(class_names))\n",
    "plt.xticks(tick_marks, class_names)\n",
    "plt.yticks(tick_marks, class_names)\n",
    "sb.heatmap(pd.DataFrame(cnf_matrix), annot=True, cmap=\"YlGnBu\" ,fmt='g')\n",
    "ax.xaxis.set_label_position(\"top\")\n",
    "plt.tight_layout()\n",
    "plt.title('Confusion matrix', y=1.1)\n",
    "plt.ylabel('Actual label')\n",
    "plt.xlabel('Predicted label')\n",
    "plt.show()\n",
    "print('\\033[1m\\033[36m{0} : {1}%'.format(title,(metrics.accuracy_score(y_tst, ypred_test))*100))"
   ]
  },
  {
   "cell_type": "code",
   "execution_count": 30,
   "metadata": {},
   "outputs": [
    {
     "name": "stdout",
     "output_type": "stream",
     "text": [
      "AUC:  0.8636868686868687\n"
     ]
    },
    {
     "data": {
      "image/png": "[encoded data removed]",
      "text/plain": [
       "<Figure size 432x288 with 1 Axes>"
      ]
     },
     "metadata": {
      "needs_background": "light"
     },
     "output_type": "display_data"
    }
   ],
   "source": [
    "#ROC on train\n",
    "from sklearn.metrics import roc_curve, auc\n",
    "#ROC on test\n",
    "ytest_probs = clf.predict_proba(x_tst)\n",
    "\n",
    "fpr, tpr, _ = roc_curve(y_tst, ytest_probs[:, 1])\n",
    "roc_auc = auc(fpr, tpr)\n",
    "#ROC curve \n",
    "print(\"AUC: \",roc_auc)\n",
    "\n",
    "#Plot ROC\n",
    "plt.figure()\n",
    "\n",
    "plt.plot(fpr, tpr, color='blue', lw=2,label='ROC curve ')\n",
    "\n",
    "plt.plot([0, 1], [0, 1], 'k--', lw=2)\n",
    "plt.xlim([0.0, 1.0])\n",
    "plt.ylim([0.0, 1.0])\n",
    "plt.xlabel('False Positive Rate')\n",
    "plt.ylabel('True Positive Rate')\n",
    "plt.title('ROC testing')\n",
    "plt.legend(loc=\"lower right\")\n",
    "plt.show()\n"
   ]
  },
  {
   "cell_type": "code",
   "execution_count": 31,
   "metadata": {},
   "outputs": [
    {
     "data": {
      "image/png": "[encoded data removed]",
      "text/plain": [
       "<Figure size 432x288 with 2 Axes>"
      ]
     },
     "metadata": {
      "needs_background": "light"
     },
     "output_type": "display_data"
    },
    {
     "name": "stdout",
     "output_type": "stream",
     "text": [
      "\u001b[1m\u001b[36mConfusion matrix of KNN model : 71.0%\n"
     ]
    }
   ],
   "source": [
    "#knn Classifier\n",
    "from sklearn.neighbors import KNeighborsClassifier\n",
    "neigh = KNeighborsClassifier(n_neighbors=3).fit(x_trn, y_trn)\n",
    "#Prediction\n",
    "prediction = neigh.predict(x_tst)\n",
    "prediction1=pd.DataFrame(prediction)\n",
    "#Accuracy\n",
    "from sklearn import metrics\n",
    "metrics.accuracy_score(y_tst, prediction)\n",
    "title=\"Confusion matrix of KNN model\"\n",
    "cnf_matrix = metrics.confusion_matrix(y_tst, prediction)\n",
    "cnf_matrix\n",
    "class_names=[0,1] # name  of classes\n",
    "fig, ax = plt.subplots()\n",
    "tick_marks = np.arange(len(class_names))\n",
    "plt.xticks(tick_marks, class_names)\n",
    "plt.yticks(tick_marks, class_names)\n",
    "sb.heatmap(pd.DataFrame(cnf_matrix), annot=True, cmap=\"YlGnBu\" ,fmt='g')\n",
    "ax.xaxis.set_label_position(\"top\")\n",
    "plt.tight_layout()\n",
    "plt.title('Confusion matrix', y=1.1)\n",
    "plt.ylabel('Actual label')\n",
    "plt.xlabel('Predicted label')\n",
    "plt.show()\n",
    "\n",
    "print('\\033[1m\\033[36m{0} : {1}%'.format(title,(metrics.accuracy_score(y_tst, prediction))*100))\n"
   ]
  },
  {
   "cell_type": "code",
   "execution_count": 32,
   "metadata": {},
   "outputs": [
    {
     "name": "stdout",
     "output_type": "stream",
     "text": [
      "AUC: 0.75\n"
     ]
    },
    {
     "data": {
      "image/png": "[encoded data removed]",
      "text/plain": [
       "<Figure size 432x288 with 1 Axes>"
      ]
     },
     "metadata": {
      "needs_background": "light"
     },
     "output_type": "display_data"
    }
   ],
   "source": [
    "def plot_roc_curve(fpr, tpr):\n",
    "    plt.plot(fpr, tpr, color='orange', label='ROC')\n",
    "    plt.plot([0, 1], [0, 1], color='darkblue', linestyle='--')\n",
    "    plt.xlabel('False Positive Rate')\n",
    "    plt.ylabel('True Positive Rate')\n",
    "    plt.title('Receiver Operating Characteristic (ROC) Curve')\n",
    "    plt.legend()\n",
    "    plt.show()\n",
    "probs = neigh.predict_proba(x_tst)\n",
    "probs = probs[:, 1]\n",
    "auc = roc_auc_score(y_tst, probs)\n",
    "print('AUC: %.2f' % auc)\n",
    "fpr, tpr, thresholds = roc_curve(y_tst, probs)\n",
    "plot_roc_curve(fpr, tpr)"
   ]
  },
  {
   "cell_type": "code",
   "execution_count": 42,
   "metadata": {},
   "outputs": [],
   "source": [
    "# Now Using SVM Algorithm \n",
    "from sklearn.svm import SVC\n",
    "#classifier=SVC(kernel='rbf',random_state=0).fit(Xtrain,ytrain)\n",
    "classifier = svm.SVC(kernel='linear', probability=True)\n",
    "probas_ = classifier.fit(x_trn, y_trn).predict_proba(x_tst)\n",
    "#classifier.fit(Xtrain,ytrain)\n"
   ]
  },
  {
   "cell_type": "code",
   "execution_count": 44,
   "metadata": {},
   "outputs": [
    {
     "data": {
      "image/png": "[encoded data removed]",
      "text/plain": [
       "<Figure size 432x288 with 1 Axes>"
      ]
     },
     "metadata": {
      "needs_background": "light"
     },
     "output_type": "display_data"
    }
   ],
   "source": [
    "pl.clf()\n",
    "pl.plot(fpr, tpr, label='ROC curve (area = %0.2f)' % roc_auc)\n",
    "pl.plot([0, 1], [0, 1], 'k--')\n",
    "pl.xlim([0.0, 1.0])\n",
    "pl.ylim([0.0, 1.0])\n",
    "pl.xlabel('False Positive Rate')\n",
    "pl.ylabel('True Positive Rate')\n",
    "pl.title('Receiver operating characteristic example')\n",
    "pl.legend(loc=\"lower right\")\n",
    "pl.show()"
   ]
  },
  {
   "cell_type": "code",
   "execution_count": 45,
   "metadata": {},
   "outputs": [
    {
     "data": {
      "text/html": [
       "<div>\n",
       "<style scoped>\n",
       "    .dataframe tbody tr th:only-of-type {\n",
       "        vertical-align: middle;\n",
       "    }\n",
       "\n",
       "    .dataframe tbody tr th {\n",
       "        vertical-align: top;\n",
       "    }\n",
       "\n",
       "    .dataframe thead th {\n",
       "        text-align: right;\n",
       "    }\n",
       "</style>\n",
       "<table border=\"1\" class=\"dataframe\">\n",
       "  <thead>\n",
       "    <tr style=\"text-align: right;\">\n",
       "      <th></th>\n",
       "      <th>0</th>\n",
       "    </tr>\n",
       "  </thead>\n",
       "  <tbody>\n",
       "    <tr>\n",
       "      <td>0</td>\n",
       "      <td>0</td>\n",
       "    </tr>\n",
       "    <tr>\n",
       "      <td>1</td>\n",
       "      <td>1</td>\n",
       "    </tr>\n",
       "    <tr>\n",
       "      <td>2</td>\n",
       "      <td>1</td>\n",
       "    </tr>\n",
       "    <tr>\n",
       "      <td>3</td>\n",
       "      <td>1</td>\n",
       "    </tr>\n",
       "    <tr>\n",
       "      <td>4</td>\n",
       "      <td>1</td>\n",
       "    </tr>\n",
       "  </tbody>\n",
       "</table>\n",
       "</div>"
      ],
      "text/plain": [
       "   0\n",
       "0  0\n",
       "1  1\n",
       "2  1\n",
       "3  1\n",
       "4  1"
      ]
     },
     "execution_count": 45,
     "metadata": {},
     "output_type": "execute_result"
    }
   ],
   "source": [
    "#Predict\n",
    "y_pred=classifier.predict(x_tst)\n",
    "prediction2=pd.DataFrame(y_pred)\n",
    "prediction2.head()"
   ]
  },
  {
   "cell_type": "code",
   "execution_count": 46,
   "metadata": {},
   "outputs": [
    {
     "data": {
      "image/png": "[encoded data removed]",
      "text/plain": [
       "<Figure size 432x288 with 2 Axes>"
      ]
     },
     "metadata": {
      "needs_background": "light"
     },
     "output_type": "display_data"
    },
    {
     "name": "stdout",
     "output_type": "stream",
     "text": [
      "\u001b[1m\u001b[36mConfusion matrix of SVM : 86.5%\n"
     ]
    }
   ],
   "source": [
    "#Accuracy\n",
    "metrics.accuracy_score(y_tst, prediction2)\n",
    "\n",
    "title=\"Confusion matrix of SVM\"\n",
    "cnf_matrix = metrics.confusion_matrix(y_tst, y_pred)\n",
    "cnf_matrix\n",
    "class_names=[0,1]\n",
    "fig, ax = plt.subplots()\n",
    "tick_marks = np.arange(len(class_names))\n",
    "plt.xticks(tick_marks, class_names)\n",
    "plt.yticks(tick_marks, class_names)\n",
    "sb.heatmap(pd.DataFrame(cnf_matrix), annot=True, cmap=\"YlGnBu\" ,fmt='g')\n",
    "ax.xaxis.set_label_position(\"top\")\n",
    "plt.tight_layout()\n",
    "plt.title('Confusion matrix', y=1.1)\n",
    "plt.ylabel('Actual label')\n",
    "plt.xlabel('Predicted label')\n",
    "plt.show()\n",
    "print('\\033[1m\\033[36m{0} : {1}%'.format(title,(metrics.accuracy_score(y_tst, y_pred))*100))"
   ]
  },
  {
   "cell_type": "code",
   "execution_count": null,
   "metadata": {},
   "outputs": [],
   "source": []
  }
 ],
 "metadata": {
  "kernelspec": {
   "display_name": "Python 3",
   "language": "python",
   "name": "python3"
  },
  "language_info": {
   "codemirror_mode": {
    "name": "ipython",
    "version": 3
   },
   "file_extension": ".py",
   "mimetype": "text/x-python",
   "name": "python",
   "nbconvert_exporter": "python",
   "pygments_lexer": "ipython3",
   "version": "3.7.4"
  }
 },
 "nbformat": 4,
 "nbformat_minor": 2
}
